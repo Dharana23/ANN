{
  "nbformat": 4,
  "nbformat_minor": 0,
  "metadata": {
    "colab": {
      "name": "ANN.ipynb",
      "provenance": [],
      "authorship_tag": "ABX9TyPOjjsggNQQ/LbztCalGMx4"
    },
    "kernelspec": {
      "name": "python3",
      "display_name": "Python 3"
    },
    "accelerator": "GPU"
  },
  "cells": [
    {
      "cell_type": "code",
      "metadata": {
        "id": "M11JNZt2Pq--",
        "colab_type": "code",
        "colab": {}
      },
      "source": [
        "import numpy as np\n",
        "import matplotlib.pyplot as plt\n",
        "import pandas as pd"
      ],
      "execution_count": 0,
      "outputs": []
    },
    {
      "cell_type": "code",
      "metadata": {
        "id": "-Qy2JZ74tyMU",
        "colab_type": "code",
        "colab": {
          "resources": {
            "http://localhost:8080/nbextensions/google.colab/files.js": {
              "data": "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",
              "ok": true,
              "headers": [
                [
                  "content-type",
                  "application/javascript"
                ]
              ],
              "status": 200,
              "status_text": "OK"
            }
          },
          "base_uri": "https://localhost:8080/",
          "height": 107
        },
        "outputId": "84b1bcc4-6993-4a63-af32-ba992a8936f2"
      },
      "source": [
        "from google.colab import files\n",
        "uploaded = files.upload()\n",
        "for fn in uploaded.keys():\n",
        "  print('user uplaoded \"{name}\" of length \"{length}\" bytes'.format(name=fn, length=len(uploaded[fn])))\n",
        "import io\n",
        "dataset = pd.read_csv(io.StringIO(uploaded['Churn_Modelling.csv'].decode('utf-8')))"
      ],
      "execution_count": 2,
      "outputs": [
        {
          "output_type": "display_data",
          "data": {
            "text/html": [
              "\n",
              "     <input type=\"file\" id=\"files-35f44ad5-2df1-4766-9d59-6e28450b937e\" name=\"files[]\" multiple disabled />\n",
              "     <output id=\"result-35f44ad5-2df1-4766-9d59-6e28450b937e\">\n",
              "      Upload widget is only available when the cell has been executed in the\n",
              "      current browser session. Please rerun this cell to enable.\n",
              "      </output>\n",
              "      <script src=\"/nbextensions/google.colab/files.js\"></script> "
            ],
            "text/plain": [
              "<IPython.core.display.HTML object>"
            ]
          },
          "metadata": {
            "tags": []
          }
        },
        {
          "output_type": "stream",
          "text": [
            "Saving Churn_Modelling.csv to Churn_Modelling.csv\n",
            "user uplaoded \"Churn_Modelling.csv\" of length \"684858\" bytes\n"
          ],
          "name": "stdout"
        }
      ]
    },
    {
      "cell_type": "code",
      "metadata": {
        "id": "Jf7LBZAwvCEP",
        "colab_type": "code",
        "colab": {}
      },
      "source": [
        "X = dataset.iloc[:, 3:13].values\n",
        "y = dataset.iloc[:, 13].values"
      ],
      "execution_count": 0,
      "outputs": []
    },
    {
      "cell_type": "code",
      "metadata": {
        "id": "ONYESVjAwlvS",
        "colab_type": "code",
        "colab": {}
      },
      "source": [
        "from sklearn.preprocessing import LabelEncoder, OneHotEncoder\n",
        "from sklearn.compose import ColumnTransformer\n",
        "labelencoder_X_2 = LabelEncoder()\n",
        "\n",
        "X[:, 2] = labelencoder_X_2.fit_transform(X[:, 2])\n",
        "\n",
        "columnTransformer = ColumnTransformer([('encoder', OneHotEncoder(), [1])], remainder='passthrough')\n",
        "\n",
        "X = np.array(columnTransformer.fit_transform(X), dtype = np.str)\n",
        "\n",
        "X = X[:, 1:]"
      ],
      "execution_count": 0,
      "outputs": []
    },
    {
      "cell_type": "code",
      "metadata": {
        "id": "aXH2JbyS1CWp",
        "colab_type": "code",
        "colab": {}
      },
      "source": [
        "from sklearn.model_selection import train_test_split\n",
        "X_train, X_test, y_train, y_test = train_test_split(X, y, test_size=0.2, random_state=0)"
      ],
      "execution_count": 0,
      "outputs": []
    },
    {
      "cell_type": "code",
      "metadata": {
        "id": "HQznGLrU1enH",
        "colab_type": "code",
        "colab": {}
      },
      "source": [
        "from sklearn.preprocessing import StandardScaler\n",
        "sc = StandardScaler()\n",
        "X_train = sc.fit_transform(X_train)\n",
        "X_test = sc.transform(X_test)"
      ],
      "execution_count": 0,
      "outputs": []
    },
    {
      "cell_type": "code",
      "metadata": {
        "id": "fwq-gIMW14xr",
        "colab_type": "code",
        "colab": {}
      },
      "source": [
        "import keras\n",
        "from keras.models import Sequential\n",
        "from keras.layers import Dense"
      ],
      "execution_count": 0,
      "outputs": []
    },
    {
      "cell_type": "code",
      "metadata": {
        "id": "tGP4lGuo2uJo",
        "colab_type": "code",
        "colab": {}
      },
      "source": [
        "classifier = Sequential()"
      ],
      "execution_count": 0,
      "outputs": []
    },
    {
      "cell_type": "code",
      "metadata": {
        "id": "Gj4BBym05DeM",
        "colab_type": "code",
        "colab": {}
      },
      "source": [
        "classifier.add(Dense(units = 6, kernel_initializer = 'uniform', activation = 'relu', input_dim = 11))"
      ],
      "execution_count": 0,
      "outputs": []
    },
    {
      "cell_type": "code",
      "metadata": {
        "id": "wZ-FtVZp6eVl",
        "colab_type": "code",
        "colab": {}
      },
      "source": [
        "classifier.add(Dense(units = 6, kernel_initializer = 'uniform', activation = 'relu'))"
      ],
      "execution_count": 0,
      "outputs": []
    },
    {
      "cell_type": "code",
      "metadata": {
        "id": "f2qRz5t37Duc",
        "colab_type": "code",
        "colab": {}
      },
      "source": [
        "classifier.add(Dense(units = 1, kernel_initializer = 'uniform', activation = 'sigmoid'))"
      ],
      "execution_count": 0,
      "outputs": []
    },
    {
      "cell_type": "code",
      "metadata": {
        "id": "HJuK1_NE7HHQ",
        "colab_type": "code",
        "colab": {}
      },
      "source": [
        "classifier.compile(optimizer='adam', loss='binary_crossentropy', metrics=['accuracy'])"
      ],
      "execution_count": 0,
      "outputs": []
    },
    {
      "cell_type": "code",
      "metadata": {
        "id": "ywXWYkdl_SgG",
        "colab_type": "code",
        "colab": {
          "base_uri": "https://localhost:8080/",
          "height": 1000
        },
        "outputId": "346a3504-4194-42bd-90fe-533001c452f4"
      },
      "source": [
        "classifier.fit(X_train, y_train, batch_size=10, epochs=100)"
      ],
      "execution_count": 44,
      "outputs": [
        {
          "output_type": "stream",
          "text": [
            "Epoch 1/100\n",
            "8000/8000 [==============================] - 2s 276us/step - loss: 0.4889 - accuracy: 0.7952\n",
            "Epoch 2/100\n",
            "8000/8000 [==============================] - 2s 259us/step - loss: 0.4165 - accuracy: 0.7960\n",
            "Epoch 3/100\n",
            "8000/8000 [==============================] - 2s 259us/step - loss: 0.4059 - accuracy: 0.8115\n",
            "Epoch 4/100\n",
            "8000/8000 [==============================] - 2s 265us/step - loss: 0.3963 - accuracy: 0.8270\n",
            "Epoch 5/100\n",
            "8000/8000 [==============================] - 2s 269us/step - loss: 0.3879 - accuracy: 0.8295\n",
            "Epoch 6/100\n",
            "8000/8000 [==============================] - 2s 270us/step - loss: 0.3810 - accuracy: 0.8375\n",
            "Epoch 7/100\n",
            "8000/8000 [==============================] - 2s 263us/step - loss: 0.3759 - accuracy: 0.8431\n",
            "Epoch 8/100\n",
            "8000/8000 [==============================] - 2s 258us/step - loss: 0.3713 - accuracy: 0.8470\n",
            "Epoch 9/100\n",
            "8000/8000 [==============================] - 2s 259us/step - loss: 0.3678 - accuracy: 0.8494\n",
            "Epoch 10/100\n",
            "8000/8000 [==============================] - 2s 260us/step - loss: 0.3653 - accuracy: 0.8506\n",
            "Epoch 11/100\n",
            "8000/8000 [==============================] - 2s 260us/step - loss: 0.3633 - accuracy: 0.8519\n",
            "Epoch 12/100\n",
            "8000/8000 [==============================] - 2s 256us/step - loss: 0.3617 - accuracy: 0.8514\n",
            "Epoch 13/100\n",
            "8000/8000 [==============================] - 2s 259us/step - loss: 0.3601 - accuracy: 0.8539\n",
            "Epoch 14/100\n",
            "8000/8000 [==============================] - 2s 258us/step - loss: 0.3584 - accuracy: 0.8543\n",
            "Epoch 15/100\n",
            "8000/8000 [==============================] - 2s 258us/step - loss: 0.3584 - accuracy: 0.8528\n",
            "Epoch 16/100\n",
            "8000/8000 [==============================] - 2s 259us/step - loss: 0.3562 - accuracy: 0.8572\n",
            "Epoch 17/100\n",
            "8000/8000 [==============================] - 2s 257us/step - loss: 0.3554 - accuracy: 0.8558\n",
            "Epoch 18/100\n",
            "8000/8000 [==============================] - 2s 267us/step - loss: 0.3556 - accuracy: 0.8559\n",
            "Epoch 19/100\n",
            "8000/8000 [==============================] - 2s 284us/step - loss: 0.3550 - accuracy: 0.8561\n",
            "Epoch 20/100\n",
            "8000/8000 [==============================] - 2s 292us/step - loss: 0.3536 - accuracy: 0.8574\n",
            "Epoch 21/100\n",
            "8000/8000 [==============================] - 2s 278us/step - loss: 0.3542 - accuracy: 0.8577\n",
            "Epoch 22/100\n",
            "8000/8000 [==============================] - 2s 279us/step - loss: 0.3533 - accuracy: 0.8579\n",
            "Epoch 23/100\n",
            "8000/8000 [==============================] - 2s 263us/step - loss: 0.3522 - accuracy: 0.8590\n",
            "Epoch 24/100\n",
            "8000/8000 [==============================] - 2s 257us/step - loss: 0.3523 - accuracy: 0.8570\n",
            "Epoch 25/100\n",
            "8000/8000 [==============================] - 2s 254us/step - loss: 0.3514 - accuracy: 0.8566\n",
            "Epoch 26/100\n",
            "8000/8000 [==============================] - 2s 256us/step - loss: 0.3521 - accuracy: 0.8559\n",
            "Epoch 27/100\n",
            "8000/8000 [==============================] - 2s 259us/step - loss: 0.3516 - accuracy: 0.8591\n",
            "Epoch 28/100\n",
            "8000/8000 [==============================] - 2s 258us/step - loss: 0.3507 - accuracy: 0.8570\n",
            "Epoch 29/100\n",
            "8000/8000 [==============================] - 2s 259us/step - loss: 0.3510 - accuracy: 0.8590\n",
            "Epoch 30/100\n",
            "8000/8000 [==============================] - 2s 254us/step - loss: 0.3505 - accuracy: 0.8580\n",
            "Epoch 31/100\n",
            "8000/8000 [==============================] - 2s 258us/step - loss: 0.3505 - accuracy: 0.8586\n",
            "Epoch 32/100\n",
            "8000/8000 [==============================] - 2s 258us/step - loss: 0.3506 - accuracy: 0.8600\n",
            "Epoch 33/100\n",
            "8000/8000 [==============================] - 2s 255us/step - loss: 0.3502 - accuracy: 0.8585\n",
            "Epoch 34/100\n",
            "8000/8000 [==============================] - 2s 260us/step - loss: 0.3492 - accuracy: 0.8591\n",
            "Epoch 35/100\n",
            "8000/8000 [==============================] - 2s 265us/step - loss: 0.3492 - accuracy: 0.8579\n",
            "Epoch 36/100\n",
            "8000/8000 [==============================] - 2s 264us/step - loss: 0.3493 - accuracy: 0.8586\n",
            "Epoch 37/100\n",
            "8000/8000 [==============================] - 2s 257us/step - loss: 0.3496 - accuracy: 0.8576\n",
            "Epoch 38/100\n",
            "8000/8000 [==============================] - 2s 252us/step - loss: 0.3489 - accuracy: 0.8587\n",
            "Epoch 39/100\n",
            "8000/8000 [==============================] - 2s 255us/step - loss: 0.3495 - accuracy: 0.8581\n",
            "Epoch 40/100\n",
            "8000/8000 [==============================] - 2s 253us/step - loss: 0.3489 - accuracy: 0.8594\n",
            "Epoch 41/100\n",
            "8000/8000 [==============================] - 2s 256us/step - loss: 0.3494 - accuracy: 0.8587\n",
            "Epoch 42/100\n",
            "8000/8000 [==============================] - 2s 252us/step - loss: 0.3479 - accuracy: 0.8599\n",
            "Epoch 43/100\n",
            "8000/8000 [==============================] - 2s 256us/step - loss: 0.3485 - accuracy: 0.8596\n",
            "Epoch 44/100\n",
            "8000/8000 [==============================] - 2s 256us/step - loss: 0.3485 - accuracy: 0.8586\n",
            "Epoch 45/100\n",
            "8000/8000 [==============================] - 2s 254us/step - loss: 0.3493 - accuracy: 0.8570\n",
            "Epoch 46/100\n",
            "8000/8000 [==============================] - 2s 256us/step - loss: 0.3479 - accuracy: 0.8596\n",
            "Epoch 47/100\n",
            "8000/8000 [==============================] - 2s 262us/step - loss: 0.3473 - accuracy: 0.8579\n",
            "Epoch 48/100\n",
            "8000/8000 [==============================] - 2s 255us/step - loss: 0.3485 - accuracy: 0.8576\n",
            "Epoch 49/100\n",
            "8000/8000 [==============================] - 2s 257us/step - loss: 0.3478 - accuracy: 0.8589\n",
            "Epoch 50/100\n",
            "8000/8000 [==============================] - 2s 258us/step - loss: 0.3475 - accuracy: 0.8574\n",
            "Epoch 51/100\n",
            "8000/8000 [==============================] - 2s 254us/step - loss: 0.3481 - accuracy: 0.8612\n",
            "Epoch 52/100\n",
            "8000/8000 [==============================] - 2s 253us/step - loss: 0.3484 - accuracy: 0.8589\n",
            "Epoch 53/100\n",
            "8000/8000 [==============================] - 2s 254us/step - loss: 0.3473 - accuracy: 0.8581\n",
            "Epoch 54/100\n",
            "8000/8000 [==============================] - 2s 252us/step - loss: 0.3480 - accuracy: 0.8577\n",
            "Epoch 55/100\n",
            "8000/8000 [==============================] - 2s 248us/step - loss: 0.3469 - accuracy: 0.8595\n",
            "Epoch 56/100\n",
            "8000/8000 [==============================] - 2s 262us/step - loss: 0.3486 - accuracy: 0.8590\n",
            "Epoch 57/100\n",
            "8000/8000 [==============================] - 2s 254us/step - loss: 0.3471 - accuracy: 0.8608\n",
            "Epoch 58/100\n",
            "8000/8000 [==============================] - 2s 252us/step - loss: 0.3464 - accuracy: 0.8600\n",
            "Epoch 59/100\n",
            "8000/8000 [==============================] - 2s 254us/step - loss: 0.3471 - accuracy: 0.8599\n",
            "Epoch 60/100\n",
            "8000/8000 [==============================] - 2s 249us/step - loss: 0.3475 - accuracy: 0.8615\n",
            "Epoch 61/100\n",
            "8000/8000 [==============================] - 2s 255us/step - loss: 0.3462 - accuracy: 0.8614\n",
            "Epoch 62/100\n",
            "8000/8000 [==============================] - 2s 256us/step - loss: 0.3465 - accuracy: 0.8590\n",
            "Epoch 63/100\n",
            "8000/8000 [==============================] - 2s 253us/step - loss: 0.3473 - accuracy: 0.8581\n",
            "Epoch 64/100\n",
            "8000/8000 [==============================] - 2s 261us/step - loss: 0.3452 - accuracy: 0.8602\n",
            "Epoch 65/100\n",
            "8000/8000 [==============================] - 2s 256us/step - loss: 0.3472 - accuracy: 0.8576\n",
            "Epoch 66/100\n",
            "8000/8000 [==============================] - 2s 257us/step - loss: 0.3465 - accuracy: 0.8606\n",
            "Epoch 67/100\n",
            "8000/8000 [==============================] - 2s 263us/step - loss: 0.3469 - accuracy: 0.8586\n",
            "Epoch 68/100\n",
            "8000/8000 [==============================] - 2s 257us/step - loss: 0.3462 - accuracy: 0.8602\n",
            "Epoch 69/100\n",
            "8000/8000 [==============================] - 2s 254us/step - loss: 0.3459 - accuracy: 0.8591\n",
            "Epoch 70/100\n",
            "8000/8000 [==============================] - 2s 250us/step - loss: 0.3462 - accuracy: 0.8596\n",
            "Epoch 71/100\n",
            "8000/8000 [==============================] - 2s 249us/step - loss: 0.3455 - accuracy: 0.8612\n",
            "Epoch 72/100\n",
            "8000/8000 [==============================] - 2s 256us/step - loss: 0.3458 - accuracy: 0.8585\n",
            "Epoch 73/100\n",
            "8000/8000 [==============================] - 2s 252us/step - loss: 0.3455 - accuracy: 0.8585\n",
            "Epoch 74/100\n",
            "8000/8000 [==============================] - 2s 255us/step - loss: 0.3446 - accuracy: 0.8589\n",
            "Epoch 75/100\n",
            "8000/8000 [==============================] - 2s 253us/step - loss: 0.3466 - accuracy: 0.8575\n",
            "Epoch 76/100\n",
            "8000/8000 [==============================] - 2s 258us/step - loss: 0.3450 - accuracy: 0.8575\n",
            "Epoch 77/100\n",
            "8000/8000 [==============================] - 2s 258us/step - loss: 0.3456 - accuracy: 0.8589\n",
            "Epoch 78/100\n",
            "8000/8000 [==============================] - 2s 259us/step - loss: 0.3453 - accuracy: 0.8587\n",
            "Epoch 79/100\n",
            "8000/8000 [==============================] - 2s 263us/step - loss: 0.3446 - accuracy: 0.8597\n",
            "Epoch 80/100\n",
            "8000/8000 [==============================] - 2s 253us/step - loss: 0.3458 - accuracy: 0.8593\n",
            "Epoch 81/100\n",
            "8000/8000 [==============================] - 2s 254us/step - loss: 0.3458 - accuracy: 0.8585\n",
            "Epoch 82/100\n",
            "8000/8000 [==============================] - 2s 253us/step - loss: 0.3448 - accuracy: 0.8621\n",
            "Epoch 83/100\n",
            "8000/8000 [==============================] - 2s 255us/step - loss: 0.3453 - accuracy: 0.8596\n",
            "Epoch 84/100\n",
            "8000/8000 [==============================] - 2s 252us/step - loss: 0.3455 - accuracy: 0.8595\n",
            "Epoch 85/100\n",
            "8000/8000 [==============================] - 2s 254us/step - loss: 0.3451 - accuracy: 0.8591\n",
            "Epoch 86/100\n",
            "8000/8000 [==============================] - 2s 254us/step - loss: 0.3448 - accuracy: 0.8583\n",
            "Epoch 87/100\n",
            "8000/8000 [==============================] - 2s 253us/step - loss: 0.3448 - accuracy: 0.8615\n",
            "Epoch 88/100\n",
            "8000/8000 [==============================] - 2s 254us/step - loss: 0.3444 - accuracy: 0.8597\n",
            "Epoch 89/100\n",
            "8000/8000 [==============================] - 2s 251us/step - loss: 0.3452 - accuracy: 0.8591\n",
            "Epoch 90/100\n",
            "8000/8000 [==============================] - 2s 252us/step - loss: 0.3454 - accuracy: 0.8599\n",
            "Epoch 91/100\n",
            "8000/8000 [==============================] - 2s 252us/step - loss: 0.3451 - accuracy: 0.8609\n",
            "Epoch 92/100\n",
            "8000/8000 [==============================] - 2s 256us/step - loss: 0.3455 - accuracy: 0.8571\n",
            "Epoch 93/100\n",
            "8000/8000 [==============================] - 2s 256us/step - loss: 0.3446 - accuracy: 0.8605\n",
            "Epoch 94/100\n",
            "8000/8000 [==============================] - 2s 274us/step - loss: 0.3454 - accuracy: 0.8606\n",
            "Epoch 95/100\n",
            "8000/8000 [==============================] - 2s 259us/step - loss: 0.3446 - accuracy: 0.8597\n",
            "Epoch 96/100\n",
            "8000/8000 [==============================] - 2s 249us/step - loss: 0.3455 - accuracy: 0.8590\n",
            "Epoch 97/100\n",
            "8000/8000 [==============================] - 2s 250us/step - loss: 0.3445 - accuracy: 0.8580\n",
            "Epoch 98/100\n",
            "8000/8000 [==============================] - 2s 258us/step - loss: 0.3447 - accuracy: 0.8612\n",
            "Epoch 99/100\n",
            "8000/8000 [==============================] - 2s 253us/step - loss: 0.3445 - accuracy: 0.8599\n",
            "Epoch 100/100\n",
            "8000/8000 [==============================] - 2s 252us/step - loss: 0.3446 - accuracy: 0.8608\n"
          ],
          "name": "stdout"
        },
        {
          "output_type": "execute_result",
          "data": {
            "text/plain": [
              "<keras.callbacks.callbacks.History at 0x7f4bde3f3eb8>"
            ]
          },
          "metadata": {
            "tags": []
          },
          "execution_count": 44
        }
      ]
    },
    {
      "cell_type": "code",
      "metadata": {
        "id": "XGKRW1QrART5",
        "colab_type": "code",
        "colab": {}
      },
      "source": [
        "y_pred = classifier.predict(X_test)\n",
        "y_pred = (y_pred > 0.5)"
      ],
      "execution_count": 0,
      "outputs": []
    },
    {
      "cell_type": "code",
      "metadata": {
        "id": "JH8JCeF2B9ga",
        "colab_type": "code",
        "colab": {
          "base_uri": "https://localhost:8080/",
          "height": 139
        },
        "outputId": "c6577b08-c751-46ae-d59b-9195b5e4dd08"
      },
      "source": [
        "y_pred"
      ],
      "execution_count": 46,
      "outputs": [
        {
          "output_type": "execute_result",
          "data": {
            "text/plain": [
              "array([[False],\n",
              "       [False],\n",
              "       [False],\n",
              "       ...,\n",
              "       [False],\n",
              "       [False],\n",
              "       [False]])"
            ]
          },
          "metadata": {
            "tags": []
          },
          "execution_count": 46
        }
      ]
    },
    {
      "cell_type": "code",
      "metadata": {
        "id": "EvtG3NtFB_fT",
        "colab_type": "code",
        "colab": {}
      },
      "source": [
        "from sklearn.metrics import confusion_matrix, accuracy_score\n",
        "cm = confusion_matrix(y_test, y_pred)"
      ],
      "execution_count": 0,
      "outputs": []
    },
    {
      "cell_type": "code",
      "metadata": {
        "id": "5MHmLzYUCa0O",
        "colab_type": "code",
        "colab": {
          "base_uri": "https://localhost:8080/",
          "height": 52
        },
        "outputId": "15a3b8db-0594-44c7-936c-0717a712b6c7"
      },
      "source": [
        "cm"
      ],
      "execution_count": 48,
      "outputs": [
        {
          "output_type": "execute_result",
          "data": {
            "text/plain": [
              "array([[1513,   82],\n",
              "       [ 205,  200]])"
            ]
          },
          "metadata": {
            "tags": []
          },
          "execution_count": 48
        }
      ]
    },
    {
      "cell_type": "code",
      "metadata": {
        "id": "zcI8cHsGCbfU",
        "colab_type": "code",
        "colab": {}
      },
      "source": [
        "asc = accuracy_score(y_test, y_pred)"
      ],
      "execution_count": 0,
      "outputs": []
    },
    {
      "cell_type": "code",
      "metadata": {
        "id": "VGK_iQBTEE0n",
        "colab_type": "code",
        "colab": {
          "base_uri": "https://localhost:8080/",
          "height": 34
        },
        "outputId": "536176d7-541e-4255-9697-f42c7013d9f9"
      },
      "source": [
        "asc"
      ],
      "execution_count": 51,
      "outputs": [
        {
          "output_type": "execute_result",
          "data": {
            "text/plain": [
              "0.8565"
            ]
          },
          "metadata": {
            "tags": []
          },
          "execution_count": 51
        }
      ]
    },
    {
      "cell_type": "code",
      "metadata": {
        "id": "FGlcvZyvEFhA",
        "colab_type": "code",
        "colab": {}
      },
      "source": [
        ""
      ],
      "execution_count": 0,
      "outputs": []
    }
  ]
}